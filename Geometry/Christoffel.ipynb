{
 "cells": [
  {
   "cell_type": "markdown",
   "metadata": {},
   "source": [
    "# Christoffel Symbol Calculator $\\Gamma^{k}_{ij}$\n",
    "___\n",
    "* The code is for symbolic computation of the Christoffel symbols for any given (relatively simple) metric tensor\n",
    "* Output is printed to be read-off directly\n",
    "* A future version will change output to be stored in a symbolic matrix"
   ]
  },
  {
   "cell_type": "code",
   "execution_count": null,
   "metadata": {},
   "outputs": [],
   "source": [
    "using Symbolics\n",
    "using LaTeXStrings"
   ]
  },
  {
   "cell_type": "code",
   "execution_count": 23,
   "metadata": {},
   "outputs": [
    {
     "name": "stdout",
     "output_type": "stream",
     "text": [
      "Γ^{1} _{11} = 0//1\n",
      "Γ^{1} _{12} = 0//1\n",
      "Γ^{1} _{21} = 0//1\n",
      "Γ^{1} _{22} = (-1//2)*sin(2u₁)\n",
      "Γ^{2} _{11} = 0//1\n",
      "Γ^{2} _{12} = cos(u₁) / sin(u₁)\n",
      "Γ^{2} _{21} = cos(u₁) / sin(u₁)\n",
      "Γ^{2} _{22} = 0//1\n"
     ]
    }
   ],
   "source": [
    "# Define symbols for the coordinates\n",
    "@variables u₁, u₂\n",
    "\n",
    "# Define the coordinates array\n",
    "x = [u₁, u₂]\n",
    "\n",
    "# Define the metric tensor in toroidal coordinates using the Jacobian\n",
    "g = [1 0\n",
    "     0 sin(u₁)^2] # parameterized sphere\n",
    "\n",
    "dimen = length(g[:,1])\n",
    "\n",
    "# Compute the inverse metric tensor\n",
    "g_inv = Symbolics.simplify(inv(g))\n",
    "\n",
    "# Initialize an array to hold the Christoffel symbols\n",
    "Γ = Array{Any}(undef, dimen, dimen, dimen);\n",
    "\n",
    "# Compute the Christoffel symbols\n",
    "for k in 1:dimen\n",
    "    for i in 1:dimen\n",
    "        for j in 1:dimen\n",
    "            # Christoffel symbol formula with simplification\n",
    "            expr = (1//2) * sum(g_inv[k,l] * (Symbolics.derivative(g[i,l],x[j]) + Symbolics.derivative(g[j,l],x[i]) - Symbolics.derivative(g[i,j],x[l])) for l in 1:dimen)\n",
    "            # Convert expression to handle rational expressions\n",
    "            Γ[k,i,j] = Symbolics.simplify(expr)\n",
    "        end\n",
    "    end\n",
    "end\n",
    "\n",
    "# Display all Christoffel symbols with simplification\n",
    "for k in 1:dimen\n",
    "    for i in 1:dimen\n",
    "        for j in 1:dimen\n",
    "            # Display the Christoffel symbol\n",
    "            println(\"Γ^{$k} _{$i$j} = \", (Γ[k, i, j]))\n",
    "        end\n",
    "    end\n",
    "end"
   ]
  },
  {
   "cell_type": "code",
   "execution_count": null,
   "metadata": {},
   "outputs": [],
   "source": []
  }
 ],
 "metadata": {
  "kernelspec": {
   "display_name": "Julia 1.10.4",
   "language": "julia",
   "name": "julia-1.10"
  },
  "language_info": {
   "file_extension": ".jl",
   "mimetype": "application/julia",
   "name": "julia",
   "version": "1.10.4"
  }
 },
 "nbformat": 4,
 "nbformat_minor": 2
}
