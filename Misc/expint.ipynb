{
 "cells": [
  {
   "cell_type": "code",
   "execution_count": 46,
   "metadata": {},
   "outputs": [],
   "source": [
    "using Plots\n",
    "using SpecialFunctions"
   ]
  },
  {
   "cell_type": "code",
   "execution_count": 47,
   "metadata": {},
   "outputs": [
    {
     "data": {
      "text/plain": [
       "\"/home/belster/julia/PossibleAscentProfile.png\""
      ]
     },
     "execution_count": 47,
     "metadata": {},
     "output_type": "execute_result"
    }
   ],
   "source": [
    "# time of flight for arbitrary height coordinate\n",
    "t(h) = expinti(exp(h)) - 2\n",
    "\n",
    "y = LinRange(0, 2, 1000)\n",
    "\n",
    "myplot = plot(t.(y), y,\n",
    "    lw=3,\n",
    "    title=\"Rocket Ascent Profile\",\n",
    "    xlabel=\"Time of Flight (t)\",\n",
    "    ylabel=\"Height of Rocket (y)\",\n",
    "    label=\"y(t)\"\n",
    "    )\n",
    "\n",
    "# savefig(myplot, \"PossibleAscentProfile.png\")\n",
    "myplot"
   ]
  }
 ],
 "metadata": {
  "kernelspec": {
   "display_name": "Julia 1.10.4",
   "language": "julia",
   "name": "julia-1.10"
  },
  "language_info": {
   "file_extension": ".jl",
   "mimetype": "application/julia",
   "name": "julia",
   "version": "1.10.4"
  }
 },
 "nbformat": 4,
 "nbformat_minor": 2
}
