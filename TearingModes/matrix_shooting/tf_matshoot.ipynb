{
 "cells": [
  {
   "cell_type": "code",
   "execution_count": 134,
   "metadata": {},
   "outputs": [],
   "source": [
    "using Plots\n",
    "using LaTeXStrings\n",
    "using SparseArrays\n",
    "using BlockDiagonals\n",
    "using BenchmarkTools"
   ]
  },
  {
   "cell_type": "code",
   "execution_count": 135,
   "metadata": {},
   "outputs": [
    {
     "data": {
      "text/plain": [
       "ddF (generic function with 1 method)"
      ]
     },
     "execution_count": 135,
     "metadata": {},
     "output_type": "execute_result"
    }
   ],
   "source": [
    "# Define functions for the current sheet F, F', F'' \n",
    "F(x) = tanh(x)\n",
    "# dF(x) = sech(x)^2\n",
    "ddF(x) = -2 * tanh(x) * sech(x)^2"
   ]
  },
  {
   "cell_type": "code",
   "execution_count": 136,
   "metadata": {},
   "outputs": [],
   "source": [
    "# Define constants\n",
    "γ₋ = 0.01309\n",
    "γ = 0.01309\n",
    "γ₊ = 0.01309\n",
    "\n",
    "bbγ₋ = 0.01309\n",
    "bbγ = 0.01309\n",
    "bbγ₊ = 0.01309\n",
    "\n",
    "khat = 1\n",
    "k₋ = 0.5\n",
    "k = 0.5\n",
    "k₊ = 0.5\n",
    "\n",
    "S = 1000\n",
    "v = (S / γ)^-0.5; # literal wild guess"
   ]
  },
  {
   "cell_type": "code",
   "execution_count": 137,
   "metadata": {},
   "outputs": [
    {
     "data": {
      "text/plain": [
       "grid_spacing (generic function with 1 method)"
      ]
     },
     "execution_count": 137,
     "metadata": {},
     "output_type": "execute_result"
    }
   ],
   "source": [
    "function grid_spacing(domain::Tuple, n::Int, λ::Rational) \n",
    "    # λ ∈ [-1, 1]\n",
    "    a, b = domain\n",
    "    # compute spacing on domain: (0, 1)\n",
    "    u = [((j) / (n-1)) + (λ / (2*π)) * sin(2*π*(j) / (n-1)) for j in 0:n-1]\n",
    "    # now apply a linear tranformation to go from (0, 1) -> (a, b)\n",
    "    return [a + (b - a) * k for k in u]\n",
    "end"
   ]
  },
  {
   "cell_type": "code",
   "execution_count": 138,
   "metadata": {},
   "outputs": [
    {
     "data": {
      "text/plain": [
       "createA (generic function with 1 method)"
      ]
     },
     "execution_count": 138,
     "metadata": {},
     "output_type": "execute_result"
    }
   ],
   "source": [
    "function createA(nodes)\n",
    "    n = length(nodes)\n",
    "    blocks = Vector{SparseMatrixCSC{Float64, Int}}(undef, n)\n",
    "\n",
    "    F_values = F.(nodes)\n",
    "    ddF_values = ddF.(nodes)\n",
    "\n",
    "    for i in 1:n\n",
    "        F_i = F_values[i]\n",
    "        ddF_i = ddF_values[i]\n",
    "\n",
    "        mat = spzeros(6, 6)\n",
    "\n",
    "        mat[1,1] = -S * γ₋\n",
    "        mat[1,2] = S * γ₋ * F_i\n",
    "        mat[2,1] = -k₋^4 / γ₋^2 - k₋^2 * ddF_i / γ₋^2\n",
    "        mat[2,2] = -k₋^2\n",
    "\n",
    "        mat[3,3] = -S * γ\n",
    "        mat[3,4] = S * γ * F_i\n",
    "        mat[4,3] = -k^4 / γ^2 - k^2 * ddF_i / γ^2\n",
    "        mat[4,4] = -k^2\n",
    "\n",
    "        mat[5,5] = -S * γ₊\n",
    "        mat[5,6] = S * γ₊ * F_i\n",
    "        mat[6,5] = -k₊^4 / γ₊^2 - k₊^2 * ddF_i / γ₊^2\n",
    "        mat[6,6] = -k₊^2\n",
    "\n",
    "        blocks[i] = mat\n",
    "    end\n",
    "\n",
    "    A = BlockDiagonal(blocks)\n",
    "\n",
    "    # make first and last blocks zero to satisfy the BCs\n",
    "    A[1:6, 1:6] .= 0.0\n",
    "    A[end-5:end, end-5:end] .= 0.0\n",
    "\n",
    "    return A\n",
    "end"
   ]
  },
  {
   "cell_type": "code",
   "execution_count": 139,
   "metadata": {},
   "outputs": [
    {
     "data": {
      "text/plain": [
       "stencil (generic function with 2 methods)"
      ]
     },
     "execution_count": 139,
     "metadata": {},
     "output_type": "execute_result"
    }
   ],
   "source": [
    "# Function to compute finite difference weights\n",
    "function stencil(x::AbstractVector{<:Real}, x₀::Real, m::Integer, p::Integer=2)\n",
    "    ℓ = 0:p\n",
    "    A = @. (x' - x₀)^ℓ / factorial(ℓ)\n",
    "    b = ℓ .== m\n",
    "    return A \\ b\n",
    "end"
   ]
  },
  {
   "cell_type": "code",
   "execution_count": 140,
   "metadata": {},
   "outputs": [
    {
     "data": {
      "text/plain": [
       "diffmat (generic function with 2 methods)"
      ]
     },
     "execution_count": 140,
     "metadata": {},
     "output_type": "execute_result"
    }
   ],
   "source": [
    "# generic function to create a sparse banded differentiation matrix for 6 coupled ODEs\n",
    "function diffmat(x::Vector{<:Real}, m::Integer, p::Integer=2)\n",
    "    n = length(x)\n",
    "    N = 6 * n # Number of rows/columns in the differentiation matrix\n",
    "    \n",
    "    if n < 3\n",
    "        throw(ArgumentError(\"The vector length must be at least 3 for a tridiagonal matrix\"))\n",
    "    end\n",
    "    \n",
    "    D = spzeros(N, N)\n",
    "    max_weights_len = p+3 # Maximum stencil length\n",
    "    \n",
    "    # Helper function to insert weights into the differentiation matrix\n",
    "    function insert_weights!(D, row, stencil_indices, weights, var_idx)\n",
    "        for (j, idx) in enumerate(stencil_indices)\n",
    "            D[row, 6*(idx-1) + var_idx] = weights[j]\n",
    "        end\n",
    "    end\n",
    "    \n",
    "    # Precompute stencil indices and apply stencil weights\n",
    "    for i in 1:n\n",
    "        if i == 1\n",
    "            stencil_indices = 1:p+2\n",
    "            stencil_x = x[stencil_indices]\n",
    "            x₀ = x[3]\n",
    "        elseif i == n\n",
    "            stencil_indices = n-(p+1):n\n",
    "            stencil_x = x[stencil_indices]\n",
    "            x₀ = x[n]\n",
    "        else\n",
    "            stencil_indices = i-1:i+1\n",
    "            stencil_x = x[stencil_indices]\n",
    "            x₀ = x[i]\n",
    "        end\n",
    "        \n",
    "        weights = stencil(stencil_x, x₀, m)\n",
    "        \n",
    "        for var_idx in 1:6\n",
    "            insert_weights!(D, 6*(i-1) + var_idx, stencil_indices, weights, var_idx)\n",
    "        end\n",
    "    end\n",
    "    \n",
    "    return D\n",
    "end"
   ]
  },
  {
   "cell_type": "code",
   "execution_count": 141,
   "metadata": {},
   "outputs": [
    {
     "data": {
      "text/plain": [
       "diffmat2_full (generic function with 2 methods)"
      ]
     },
     "execution_count": 141,
     "metadata": {},
     "output_type": "execute_result"
    }
   ],
   "source": [
    "# Function to create a sparse banded differentiation matrix for 6 coupled ODEs\n",
    "function diffmat2_full(x::Vector{<:Real}, m::Integer, p::Integer=2)\n",
    "    n = length(x)\n",
    "    N = 6 * n # Number of rows/columns in the differentiation matrix\n",
    "    \n",
    "    if n < 3\n",
    "        throw(ArgumentError(\"The vector length must be at least 3 for a tridiagonal matrix\"))\n",
    "    end\n",
    "    \n",
    "    D = spzeros(N, N)\n",
    "    max_weights_len = p+3 # Maximum stencil length\n",
    "    \n",
    "    # Helper function to insert weights into the differentiation matrix\n",
    "    function insert_weights!(D, row, stencil_indices, weights, var_idx)\n",
    "        for (j, idx) in enumerate(stencil_indices)\n",
    "            D[row, 6*(idx-1) + var_idx] = weights[j]\n",
    "        end\n",
    "    end\n",
    "    \n",
    "    # Precompute stencil indices and apply stencil weights\n",
    "    for i in 1:n\n",
    "        if i == 1\n",
    "            stencil_indices = 1:p+2\n",
    "            stencil_x = x[stencil_indices]\n",
    "            x₀ = x[3]\n",
    "        elseif i == n\n",
    "            stencil_indices = n-(p+1):n\n",
    "            stencil_x = x[stencil_indices]\n",
    "            x₀ = x[n]\n",
    "        else\n",
    "            stencil_indices = i-1:i+1\n",
    "            stencil_x = x[stencil_indices]\n",
    "            x₀ = x[i]\n",
    "        end\n",
    "        \n",
    "        weights = stencil(stencil_x, x₀, m)\n",
    "        \n",
    "        for var_idx in 1:6\n",
    "            insert_weights!(D, 6*(i-1) + var_idx, stencil_indices, weights, var_idx)\n",
    "        end\n",
    "        \n",
    "        # Modify rows in matrix directly for additional ψ 2nd derivative terms in sys of eqns\n",
    "        # take the same stencil weights generated for 2nd deriv in those spots that already exist (they don't)\n",
    "        # and multiply them by k^2*F / γ^2 depending on position\n",
    "        D[6*(i-1) + 2, :] .+= D[6*(i-1) + 1, :] * (k₋^2 * F(x[i]) / γ₋^2)\n",
    "        D[6*(i-1) + 4, :] .+= D[6*(i-1) + 3, :] * (k^2 * F(x[i]) / γ^2)\n",
    "        D[6*(i-1) + 6, :] .+= D[6*(i-1) + 5, :] * (k₊^2 * F(x[i]) / γ₊^2)\n",
    "    end\n",
    "    \n",
    "    return D\n",
    "end"
   ]
  },
  {
   "cell_type": "code",
   "execution_count": 142,
   "metadata": {},
   "outputs": [
    {
     "data": {
      "text/plain": [
       "diffmat1 (generic function with 2 methods)"
      ]
     },
     "execution_count": 142,
     "metadata": {},
     "output_type": "execute_result"
    }
   ],
   "source": [
    "# Function to create a sparse banded differentiation matrix for 6 coupled ODEs\n",
    "function diffmat(x::Vector{<:Real}, m::Integer, S::Real, v::Real, khat::Real, k::Vector{<:Real}, p::Integer=2)\n",
    "    n = length(x)\n",
    "    N = 6 * n # Number of rows/columns in the differentiation matrix\n",
    "    \n",
    "    if n < 3\n",
    "        throw(ArgumentError(\"The vector length must be at least 3 for a tridiagonal matrix\"))\n",
    "    end\n",
    "    \n",
    "    D = spzeros(N, N)\n",
    "    max_weights_len = p+3 # Maximum stencil length\n",
    "    \n",
    "    # Helper function to insert weights into the differentiation matrix\n",
    "    function insert_weights!(D, row, stencil_indices, weights, var_idx)\n",
    "        for (j, idx) in enumerate(stencil_indices)\n",
    "            D[row, 6*(idx-1) + var_idx] = weights[j]\n",
    "        end\n",
    "    end\n",
    "    \n",
    "    # Precompute stencil indices and apply stencil weights\n",
    "    for i in 1:n\n",
    "        if i == 1\n",
    "            stencil_indices = 1:p+2\n",
    "            stencil_x = x[stencil_indices]\n",
    "            x₀ = x[3]\n",
    "        elseif i == n\n",
    "            stencil_indices = n-(p+1):n\n",
    "            stencil_x = x[stencil_indices]\n",
    "            x₀ = x[n]\n",
    "        else\n",
    "            stencil_indices = i-1:i+1\n",
    "            stencil_x = x[stencil_indices]\n",
    "            x₀ = x[i]\n",
    "        end\n",
    "        \n",
    "        weights = stencil(stencil_x, x₀, m)\n",
    "        \n",
    "        for var_idx in 1:6\n",
    "            insert_weights!(D, 6*(i-1) + var_idx, stencil_indices, weights, var_idx)\n",
    "        end\n",
    "        \n",
    "        # Add first derivative terms to specific rows\n",
    "        if i == 1\n",
    "            # First derivative term for ψ_m in the first row\n",
    "            first_deriv_weights = stencil(stencil_x, x₀, m-1)\n",
    "            insert_weights!(D, 6*(i-1) + 1, stencil_indices, -S * v * (1 - (khat / k)) * first_deriv_weights, 1)\n",
    "        elseif i == n\n",
    "            # First derivative term for ψ_m in the fifth row\n",
    "            first_deriv_weights = stencil(stencil_x, x₀, m-1)\n",
    "            insert_weights!(D, 6*(i-1) + 5, stencil_indices, -S * v * (1 - (khat / k)) * first_deriv_weights, 1)\n",
    "        else\n",
    "            # First derivative term for ψ_{m+1} in the third row\n",
    "            first_deriv_weights_plus = stencil(stencil_x, x₀, m-1)\n",
    "            insert_weights!(D, 6*(i-1) + 3, stencil_indices, -S * v * (1 + (khat / k₊)) * first_deriv_weights_plus, 3)\n",
    "            \n",
    "            # First derivative term for ψ_{m-1} in the third row\n",
    "            first_deriv_weights_minus = stencil(stencil_x, x₀, m-1)\n",
    "            insert_weights!(D, 6*(i-1) + 3, stencil_indices, -S * v * (1 - (khat / k₋)) * first_deriv_weights_minus, 1)\n",
    "        end\n",
    "    end\n",
    "    \n",
    "    return D\n",
    "end"
   ]
  },
  {
   "cell_type": "code",
   "execution_count": 143,
   "metadata": {},
   "outputs": [],
   "source": [
    "dom = (-10, 10)\n",
    "n = 200\n",
    "mult = 2//3\n",
    "\n",
    "x = grid_spacing(dom, n, mult);\n",
    "A = createA(x);\n",
    "\n",
    "Dx = diffmat(x, 1)\n",
    "# d2_test = diffmat(x, 2);\n",
    "Dxx = diffmat2_full(x, 2);\n",
    "# Dxxx = diffmat(x, 3);"
   ]
  },
  {
   "cell_type": "code",
   "execution_count": 144,
   "metadata": {},
   "outputs": [
    {
     "data": {
      "text/plain": [
       "6×6 SparseMatrixCSC{Float64, Int64} with 9 stored entries:\n",
       "     17.8392   ⋅         ⋅       ⋅         ⋅       ⋅ \n",
       " -26027.7     0.0        ⋅       ⋅         ⋅       ⋅ \n",
       "       ⋅       ⋅       17.8392   ⋅         ⋅       ⋅ \n",
       "       ⋅       ⋅   -26027.7     0.0        ⋅       ⋅ \n",
       "       ⋅       ⋅         ⋅       ⋅       17.8392   ⋅ \n",
       "       ⋅       ⋅         ⋅       ⋅   -26027.7     0.0"
      ]
     },
     "execution_count": 144,
     "metadata": {},
     "output_type": "execute_result"
    }
   ],
   "source": [
    "Dxx[1:6, 1:6]"
   ]
  },
  {
   "cell_type": "code",
   "execution_count": 145,
   "metadata": {},
   "outputs": [
    {
     "data": {
      "text/plain": [
       "1200×1200 SparseMatrixCSC{Float64, Int64} with 3612 stored entries:\n",
       "⎡⠻⣧⡀⠀⠀⠀⠀⠀⠀⠀⠀⠀⠀⠀⠀⠀⠀⠀⠀⠀⠀⠀⠀⠀⠀⠀⠀⠀⠀⠀⠀⠀⠀⠀⠀⠀⠀⠀⠀⠀⎤\n",
       "⎢⠀⠈⠻⣦⡀⠀⠀⠀⠀⠀⠀⠀⠀⠀⠀⠀⠀⠀⠀⠀⠀⠀⠀⠀⠀⠀⠀⠀⠀⠀⠀⠀⠀⠀⠀⠀⠀⠀⠀⠀⎥\n",
       "⎢⠀⠀⠀⠈⠻⣦⡀⠀⠀⠀⠀⠀⠀⠀⠀⠀⠀⠀⠀⠀⠀⠀⠀⠀⠀⠀⠀⠀⠀⠀⠀⠀⠀⠀⠀⠀⠀⠀⠀⠀⎥\n",
       "⎢⠀⠀⠀⠀⠀⠈⠻⣦⡀⠀⠀⠀⠀⠀⠀⠀⠀⠀⠀⠀⠀⠀⠀⠀⠀⠀⠀⠀⠀⠀⠀⠀⠀⠀⠀⠀⠀⠀⠀⠀⎥\n",
       "⎢⠀⠀⠀⠀⠀⠀⠀⠈⠻⣦⡀⠀⠀⠀⠀⠀⠀⠀⠀⠀⠀⠀⠀⠀⠀⠀⠀⠀⠀⠀⠀⠀⠀⠀⠀⠀⠀⠀⠀⠀⎥\n",
       "⎢⠀⠀⠀⠀⠀⠀⠀⠀⠀⠈⠻⣦⡀⠀⠀⠀⠀⠀⠀⠀⠀⠀⠀⠀⠀⠀⠀⠀⠀⠀⠀⠀⠀⠀⠀⠀⠀⠀⠀⠀⎥\n",
       "⎢⠀⠀⠀⠀⠀⠀⠀⠀⠀⠀⠀⠈⠻⣦⡀⠀⠀⠀⠀⠀⠀⠀⠀⠀⠀⠀⠀⠀⠀⠀⠀⠀⠀⠀⠀⠀⠀⠀⠀⠀⎥\n",
       "⎢⠀⠀⠀⠀⠀⠀⠀⠀⠀⠀⠀⠀⠀⠈⠻⣦⡀⠀⠀⠀⠀⠀⠀⠀⠀⠀⠀⠀⠀⠀⠀⠀⠀⠀⠀⠀⠀⠀⠀⠀⎥\n",
       "⎢⠀⠀⠀⠀⠀⠀⠀⠀⠀⠀⠀⠀⠀⠀⠀⠈⠻⣦⡀⠀⠀⠀⠀⠀⠀⠀⠀⠀⠀⠀⠀⠀⠀⠀⠀⠀⠀⠀⠀⠀⎥\n",
       "⎢⠀⠀⠀⠀⠀⠀⠀⠀⠀⠀⠀⠀⠀⠀⠀⠀⠀⠈⠻⣦⡀⠀⠀⠀⠀⠀⠀⠀⠀⠀⠀⠀⠀⠀⠀⠀⠀⠀⠀⠀⎥\n",
       "⎢⠀⠀⠀⠀⠀⠀⠀⠀⠀⠀⠀⠀⠀⠀⠀⠀⠀⠀⠀⠈⠻⣦⡀⠀⠀⠀⠀⠀⠀⠀⠀⠀⠀⠀⠀⠀⠀⠀⠀⠀⎥\n",
       "⎢⠀⠀⠀⠀⠀⠀⠀⠀⠀⠀⠀⠀⠀⠀⠀⠀⠀⠀⠀⠀⠀⠈⠻⣦⡀⠀⠀⠀⠀⠀⠀⠀⠀⠀⠀⠀⠀⠀⠀⠀⎥\n",
       "⎢⠀⠀⠀⠀⠀⠀⠀⠀⠀⠀⠀⠀⠀⠀⠀⠀⠀⠀⠀⠀⠀⠀⠀⠈⠻⣦⡀⠀⠀⠀⠀⠀⠀⠀⠀⠀⠀⠀⠀⠀⎥\n",
       "⎢⠀⠀⠀⠀⠀⠀⠀⠀⠀⠀⠀⠀⠀⠀⠀⠀⠀⠀⠀⠀⠀⠀⠀⠀⠀⠈⠻⣦⡀⠀⠀⠀⠀⠀⠀⠀⠀⠀⠀⠀⎥\n",
       "⎢⠀⠀⠀⠀⠀⠀⠀⠀⠀⠀⠀⠀⠀⠀⠀⠀⠀⠀⠀⠀⠀⠀⠀⠀⠀⠀⠀⠈⠻⣦⡀⠀⠀⠀⠀⠀⠀⠀⠀⠀⎥\n",
       "⎢⠀⠀⠀⠀⠀⠀⠀⠀⠀⠀⠀⠀⠀⠀⠀⠀⠀⠀⠀⠀⠀⠀⠀⠀⠀⠀⠀⠀⠀⠈⠻⣦⡀⠀⠀⠀⠀⠀⠀⠀⎥\n",
       "⎢⠀⠀⠀⠀⠀⠀⠀⠀⠀⠀⠀⠀⠀⠀⠀⠀⠀⠀⠀⠀⠀⠀⠀⠀⠀⠀⠀⠀⠀⠀⠀⠈⠻⣦⡀⠀⠀⠀⠀⠀⎥\n",
       "⎢⠀⠀⠀⠀⠀⠀⠀⠀⠀⠀⠀⠀⠀⠀⠀⠀⠀⠀⠀⠀⠀⠀⠀⠀⠀⠀⠀⠀⠀⠀⠀⠀⠀⠈⠻⣦⡀⠀⠀⠀⎥\n",
       "⎢⠀⠀⠀⠀⠀⠀⠀⠀⠀⠀⠀⠀⠀⠀⠀⠀⠀⠀⠀⠀⠀⠀⠀⠀⠀⠀⠀⠀⠀⠀⠀⠀⠀⠀⠀⠈⠻⣦⡀⠀⎥\n",
       "⎣⠀⠀⠀⠀⠀⠀⠀⠀⠀⠀⠀⠀⠀⠀⠀⠀⠀⠀⠀⠀⠀⠀⠀⠀⠀⠀⠀⠀⠀⠀⠀⠀⠀⠀⠀⠀⠀⠈⢻⣦⎦"
      ]
     },
     "execution_count": 145,
     "metadata": {},
     "output_type": "execute_result"
    }
   ],
   "source": [
    "Dx"
   ]
  },
  {
   "cell_type": "code",
   "execution_count": 146,
   "metadata": {},
   "outputs": [],
   "source": [
    "#= TO-DO:\n",
    "    1. create Dx with ψ derivs only, all else = 0\n",
    "    2. create Dxxx with ϕ derivs only, all else = 0\n",
    "    3. combine Dx, Dxx, Dxxx, and A into 1 big matrix\n",
    "    4. chop off endpoint values and perform matrix shooting--\n",
    "    4(cont). make sure to use LinearSolve.jl instead of A \\ b\n",
    "    5. check results are in ballpark\n",
    "    6. estimate missing parameters, implement Muller's method \n",
    "    7. guess γ and iterate iterate iterate!\n",
    "=#"
   ]
  }
 ],
 "metadata": {
  "kernelspec": {
   "display_name": "Julia 1.10.4",
   "language": "julia",
   "name": "julia-1.10"
  },
  "language_info": {
   "file_extension": ".jl",
   "mimetype": "application/julia",
   "name": "julia",
   "version": "1.10.4"
  }
 },
 "nbformat": 4,
 "nbformat_minor": 2
}
