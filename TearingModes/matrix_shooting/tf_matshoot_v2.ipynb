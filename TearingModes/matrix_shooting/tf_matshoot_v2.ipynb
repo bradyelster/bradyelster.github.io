{
 "cells": [
  {
   "cell_type": "code",
   "execution_count": 360,
   "metadata": {},
   "outputs": [],
   "source": [
    "using Plots\n",
    "using LaTeXStrings\n",
    "using SparseArrays\n",
    "\n",
    "using BandedMatrices\n",
    "using LinearSolve"
   ]
  },
  {
   "cell_type": "code",
   "execution_count": 361,
   "metadata": {},
   "outputs": [
    {
     "data": {
      "text/plain": [
       "ddF (generic function with 1 method)"
      ]
     },
     "execution_count": 361,
     "metadata": {},
     "output_type": "execute_result"
    }
   ],
   "source": [
    "# Define functions for the current sheet F, F'' \n",
    "F(x) = tanh(x)\n",
    "ddF(x) = -2 * tanh(x) * sech(x)^2"
   ]
  },
  {
   "cell_type": "code",
   "execution_count": 362,
   "metadata": {},
   "outputs": [
    {
     "data": {
      "text/plain": [
       "create_grid (generic function with 1 method)"
      ]
     },
     "execution_count": 362,
     "metadata": {},
     "output_type": "execute_result"
    }
   ],
   "source": [
    "function create_grid(domain::Tuple, n::Int, λ::Rational) \n",
    "    # λ ∈ [-1, 1]\n",
    "    a, b = domain\n",
    "    # compute spacing on domain: (0, 1)\n",
    "    u = [((j) / (n-1)) + (λ / (2*π)) * sin(2*π*(j) / (n-1)) for j in 0:n-1]\n",
    "    # now apply a linear tranformation to go from (0, 1) -> (a, b)\n",
    "    return [a + (b - a) * k for k in u]\n",
    "end"
   ]
  },
  {
   "cell_type": "code",
   "execution_count": 363,
   "metadata": {},
   "outputs": [
    {
     "data": {
      "text/plain": [
       "stencil (generic function with 2 methods)"
      ]
     },
     "execution_count": 363,
     "metadata": {},
     "output_type": "execute_result"
    }
   ],
   "source": [
    "# Function to compute finite difference weights\n",
    "function stencil(x::AbstractVector{<:Real}, x₀::Real, m::Integer, p::Integer=2)\n",
    "    ℓ = 0:p\n",
    "    A = @. (x' - x₀)^ℓ / factorial(ℓ)\n",
    "    b = ℓ .== m\n",
    "    return A \\ b\n",
    "end"
   ]
  },
  {
   "cell_type": "code",
   "execution_count": 364,
   "metadata": {},
   "outputs": [
    {
     "data": {
      "text/plain": [
       "createA (generic function with 2 methods)"
      ]
     },
     "execution_count": 364,
     "metadata": {},
     "output_type": "execute_result"
    }
   ],
   "source": [
    "function createA(x, S, gam, bbgam, khat, k, v, F, ddF, p::Integer=2)\n",
    "    N = length(x)\n",
    "    A = spzeros(6*N, 6*N)\n",
    "    # A = zeros(ComplexF64, 6*N, 6*N)  # Matrix to accommodate ψ and φ for m-1, m, m+1\n",
    "\n",
    "    # Function to insert weights into the matrix\n",
    "    function insert_weights!(A, idx, weights, offset, factor=1.0)\n",
    "        for (j, w) in enumerate(weights)\n",
    "            if idx + (j-2) * 6 + offset > 0 && idx + (j-2) * 6 + offset <= size(A, 1)\n",
    "                A[idx, idx + (j-2) * 6 + offset] += factor * w\n",
    "            end\n",
    "        end\n",
    "    end\n",
    "\n",
    "    for i in 1:N\n",
    "        # Define the indices for the solution vector\n",
    "        idx_m1_psi, idx_m1_phi = 6*(i-1) + 1, 6*(i-1) + 2\n",
    "        idx_m_psi, idx_m_phi = 6*(i-1) + 3, 6*(i-1) + 4\n",
    "        idx_mp1_psi, idx_mp1_phi = 6*(i-1) + 5, 6*(i-1) + 6\n",
    "\n",
    "        # Compute stencil weights for the first, second, and third derivatives at x[i]\n",
    "        if i == 1\n",
    "            w_1st = stencil(x[i:i+2], x[i], 1, p)\n",
    "            w_2nd = stencil(x[i:i+2], x[i], 2, p)\n",
    "            w_3rd = stencil(x[i:i+2], x[i], 3, p)\n",
    "        elseif i == N\n",
    "            w_1st = stencil(x[i-2:i], x[i], 1, p)\n",
    "            w_2nd = stencil(x[i-2:i], x[i], 2, p)\n",
    "            w_3rd = stencil(x[i-2:i], x[i], 3, p)\n",
    "        else\n",
    "            w_1st = stencil(x[i-1:i+1], x[i], 1, p)\n",
    "            w_2nd = stencil(x[i-1:i+1], x[i], 2, p)\n",
    "            w_3rd = stencil(x[i-1:i+1], x[i], 3, p)\n",
    "        end\n",
    "\n",
    "        # ODEs for ψ_{m-1} and φ_{m-1}\n",
    "        insert_weights!(A, idx_m1_psi, w_2nd, -6, 1)  # ψ_{m-1}\n",
    "        A[idx_m1_psi, idx_m1_psi] -= S * gam[1]  # ψ_{m-1, i}\n",
    "        A[idx_m1_psi, idx_m1_phi] = S * gam[1] * F(x[i])  # Coupling term with φ_{m-1, i}\n",
    "        insert_weights!(A, idx_m1_psi, w_1st, -6, -S * v * (1 - khat / k[2]))  # First derivative term for ψ_{m}\n",
    "\n",
    "        insert_weights!(A, idx_m1_phi, w_2nd, -6, 1)  # φ_{m-1}\n",
    "        A[idx_m1_phi, idx_m1_phi] -= k[1]^2  # φ_{m-1, i}\n",
    "        insert_weights!(A, idx_m1_phi, w_2nd, -6, k[1]^2 / gam[1]^2)  # ψ_{m-1}\n",
    "        A[idx_m1_phi, idx_m1_psi] += -k[1]^4 / gam[1]^2 - k[1]^2 * ddF(x[i]) / gam[1]^2\n",
    "        insert_weights!(A, idx_m1_phi, w_3rd, -6, -v * k[1] * bbgam[2] / (gam[1] * k[2]))  # Coupling term with φ_{m, i}\n",
    "\n",
    "        # ODEs for ψ_{m} and φ_{m}\n",
    "        insert_weights!(A, idx_m_psi, w_2nd, -6, 1)  # ψ_{m}\n",
    "        A[idx_m_psi, idx_m_psi] -= S * gam[2]  # ψ_{m, i}\n",
    "        A[idx_m_psi, idx_m_phi] = S * gam[2] * F(x[i])  # Coupling term with φ_{m, i}\n",
    "        insert_weights!(A, idx_m_psi, w_1st, -6, -S * v * (1 - khat / k[1]))  # First derivative term for ψ_{m-1}\n",
    "        insert_weights!(A, idx_m_psi, w_1st, 6, -S * v * (1 + khat / k[3]))  # First derivative term for ψ_{m+1}\n",
    "\n",
    "        insert_weights!(A, idx_m_phi, w_2nd, -6, 1)  # φ_{m}\n",
    "        A[idx_m_phi, idx_m_phi] -= k[2]^2  # φ_{m, i}\n",
    "        insert_weights!(A, idx_m_phi, w_2nd, -6, k[2]^2 / gam[2]^2)  # ψ_{m}\n",
    "        A[idx_m_phi, idx_m_psi] += -k[2]^4 / gam[2]^2 - k[2]^2 * ddF(x[i]) / gam[2]^2\n",
    "        insert_weights!(A, idx_m_phi, w_3rd, -6, -v * k[2] * bbgam[1] / (gam[2] * k[1]))  # Coupling term with φ_{m-1, i}\n",
    "        insert_weights!(A, idx_m_phi, w_3rd, 6, -v * k[2] * bbgam[3] / (gam[2] * k[3]))  # Coupling term with φ_{m+1, i}\n",
    "\n",
    "        # ODEs for ψ_{m+1} and φ_{m+1}\n",
    "        insert_weights!(A, idx_mp1_psi, w_2nd, -6, 1)  # ψ_{m+1}\n",
    "        A[idx_mp1_psi, idx_mp1_psi] -= S * gam[3]  # ψ_{m+1, i}\n",
    "        A[idx_mp1_psi, idx_mp1_phi] = S * gam[3] * F(x[i])  # Coupling term with φ_{m+1, i}\n",
    "        insert_weights!(A, idx_mp1_psi, w_1st, -6, -S * v * (1 - khat / k[2]))  # First derivative term for ψ_{m}\n",
    "\n",
    "        insert_weights!(A, idx_mp1_phi, w_2nd, -6, 1)  # φ_{m+1}\n",
    "        A[idx_mp1_phi, idx_mp1_phi] -= k[3]^2  # φ_{m+1, i}\n",
    "        insert_weights!(A, idx_mp1_phi, w_2nd, -6, k[3]^2 / gam[3]^2)  # ψ_{m+1}\n",
    "        A[idx_mp1_phi, idx_mp1_psi] += -k[3]^4 / gam[3]^2 - k[3]^2 * ddF(x[i]) / gam[3]^2\n",
    "        insert_weights!(A, idx_mp1_phi, w_3rd, -6, -v * k[3] * bbgam[2] / (gam[3] * k[2]))  # Coupling term with φ_{m, i}\n",
    "\n",
    "        # Construct boundary matrices (BandedMatrices)\n",
    "        # B_left = BandedMatrix(0 => fill(1.0, 6))  # Left boundary matrix\n",
    "        # B_right = BandedMatrix(0 => fill(1.0, 6))   # Right boundary matrix\n",
    "\n",
    "        # Apply boundary matrices to A\n",
    "        # A[1:6, 1:6] = Matrix(B_left)\n",
    "        # A[end-5:end, end-5:end] = Matrix(B_right)\n",
    "    end\n",
    "\n",
    "    return A\n",
    "end"
   ]
  },
  {
   "cell_type": "code",
   "execution_count": 365,
   "metadata": {},
   "outputs": [
    {
     "data": {
      "text/plain": [
       "createUV (generic function with 1 method)"
      ]
     },
     "execution_count": 365,
     "metadata": {},
     "output_type": "execute_result"
    }
   ],
   "source": [
    "function createUV(A)\n",
    "    U = A[7:end-5, 7:end-5]; # U starts at ψ_{m-1, 2}\n",
    "\n",
    "    # now we set ψ_{m-1, 2} = 1 which creates inhomogenenous terms\n",
    "    V = convert(Vector, -U[:, 1]) # V is the negative of the ψ_{m-1, 2} column\n",
    "    U_rem = U[:, 2:end] # now we remove the ψ_{m-1, 2} column \n",
    "\n",
    "    # note: size(U_rem) should be 6*n - 12 as expected\n",
    "    return U_rem, V\n",
    "end"
   ]
  },
  {
   "cell_type": "code",
   "execution_count": 366,
   "metadata": {},
   "outputs": [
    {
     "data": {
      "text/plain": [
       "LinSolveUV (generic function with 1 method)"
      ]
     },
     "execution_count": 366,
     "metadata": {},
     "output_type": "execute_result"
    }
   ],
   "source": [
    "function LinSolveUV(U, V)\n",
    "    # solve the resulting linear system\n",
    "    prob = LinearProblem(U, V)\n",
    "    sol = solve(prob)\n",
    "    Y = sol.u\n",
    "    return Y\n",
    "end"
   ]
  },
  {
   "cell_type": "code",
   "execution_count": 367,
   "metadata": {},
   "outputs": [],
   "source": [
    "# Define constants\n",
    "khat = 1\n",
    "k = [0.25, 0.5, 0.25] # k bar: {m-1, m, m+1}\n",
    "\n",
    "γ₋ = 0.013\n",
    "γ = 0.01316\n",
    "γ₊ = 0.013\n",
    "\n",
    "gam = [γ₋, γ, γ₊] # gamma bar: {m-1, m, m+1}\n",
    "bbgam = gam # gamma bar bar: {m-1, m, m+1}\n",
    "\n",
    "S = 1000\n",
    "v = 0.01; # some small number"
   ]
  },
  {
   "cell_type": "code",
   "execution_count": 368,
   "metadata": {},
   "outputs": [],
   "source": [
    "dom = (-10, 10)\n",
    "n = 200\n",
    "mult = 2//3\n",
    "\n",
    "x = create_grid(dom, n, mult);\n",
    "A = createA(x, S, gam, bbgam, khat, k, v, F, ddF, 2);\n",
    "# U, V = createUV(A);\n",
    "# Y = LinSolveUV(U, V);"
   ]
  },
  {
   "cell_type": "code",
   "execution_count": 370,
   "metadata": {},
   "outputs": [],
   "source": [
    "#=\n",
    "\n",
    "ɸm1 = Y[1:6:end]; # length: n-2, start: x₂, end: x_{n-1}\n",
    "ψ = Y[2:6:end]; # length: n-2, start: x₂, end: x_{n-1}\n",
    "ɸ = Y[3:6:end]; # length: n-2, start: x₂, end: x_{n-1}\n",
    "ψp1 = Y[4:6:end]; # length: n-2, start: x₂, end: x_{n-1}\n",
    "ɸp1 = Y[5:6:end]; # length: n-2, start: x₂, end: x_{n-1}\n",
    "x_interior = x[2:end-1];\n",
    "\n",
    "ψm1 = Y[6:6:end]; # length: n-2, start: x₃, end: x_{n}\n",
    "x_end = x[3:end];\n",
    "\n",
    "println(\"Should be near 0: \", real.(ψm1[end]))\n",
    "\n",
    "theme(:dao::Symbol)\n",
    "plot(x_interior, [real.(ɸm1), real.(ψ), real.(ɸ), real.(ψp1), real.(ɸp1)], \n",
    "    labels=[L\"$\\phi_{m-1}$\" L\"$\\psi_{m}$\" L\"$\\phi_{m}$\" L\"$\\psi_{m+1}$\" L\"$\\phi_{m+1}$\"],\n",
    "    lw=2, \n",
    "    markersize=2.5)\n",
    "plot!(x_end, real.(ψm1), label=L\"$\\psi_{m-1}$\", \n",
    "    lw=3,\n",
    "    markersize=2.5, \n",
    "    legend=:best)\n",
    "\n",
    "=#"
   ]
  }
 ],
 "metadata": {
  "kernelspec": {
   "display_name": "Julia 1.10.4",
   "language": "julia",
   "name": "julia-1.10"
  },
  "language_info": {
   "file_extension": ".jl",
   "mimetype": "application/julia",
   "name": "julia",
   "version": "1.10.4"
  }
 },
 "nbformat": 4,
 "nbformat_minor": 2
}
