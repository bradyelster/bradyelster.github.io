{
 "cells": [
  {
   "cell_type": "code",
   "execution_count": 34,
   "metadata": {},
   "outputs": [
    {
     "data": {
      "text/plain": [
       "fornberg_weights (generic function with 1 method)"
      ]
     },
     "execution_count": 34,
     "metadata": {},
     "output_type": "execute_result"
    }
   ],
   "source": [
    "function fornberg_weights(z,x,n,m)\n",
    "    # From Bengt Fornbergs (1998) SIAM Review paper.\n",
    "    #  \tInput Parameters\n",
    "    #\tz location where approximations are to be accurate,\n",
    "    #\tx(0:nd) grid point locations, found in x(0:n)\n",
    "    #\tn one less than total number of grid points; n must\n",
    "    #\tnot exceed the parameter nd below,\n",
    "    #\tnd dimension of x- and c-arrays in calling program\n",
    "    #\tx(0:nd) and c(0:nd,0:m), respectively,\n",
    "    #\tm highest derivative for which weights are sought,\n",
    "    #\tOutput Parameter\n",
    "    #\tc(0:nd,0:m) weights at grid locations x(0:n) for derivatives\n",
    "    #\tof order 0:m, found in c(0:n,0:m)\n",
    "    #      \tdimension x(0:nd),c(0:nd,0:m)\n",
    "    \n",
    "      c = zeros(n+1,m+1);\n",
    "      c1 = 1.0;\n",
    "      c4 = x[1+0]-z;\n",
    "      for k=0:m\n",
    "            for j=0:n\n",
    "                  c[1+j,1+k] = 0.0;\n",
    "            end\n",
    "      end\n",
    "      c[1+0,1+0] = 1.0;\n",
    "      for  i=1:n\n",
    "            mn = min(i,m);\n",
    "            c2 = 1.0;\n",
    "            c5 = c4;\n",
    "            c4 = x[1+i]-z;\n",
    "            for j=0:i-1\n",
    "                  c3 = x[1+i]-x[1+j];\n",
    "                  c2 = c2*c3;\n",
    "                    if (j == i-1)\n",
    "                        for k=mn:-1:1\n",
    "                        c[1+i,1+k] = c1*(k*c[1+i-1,1+k-1]-c5*c[1+i-1,1+k])/c2;\n",
    "                        end\n",
    "                  c[1+i,1+0] = -c1*c5*c[1+i-1,1+0]/c2;\n",
    "                  end\n",
    "                  for k=mn:-1:1\n",
    "                        c[1+j,1+k] = (c4*c[1+j,1+k]-k*c[1+j,1+k-1])/c3;\n",
    "                  end\n",
    "                  c[1+j,1+0] = c4*c[1+j,1+0]/c3;\n",
    "            end\n",
    "            c1 = c2;\n",
    "      end\n",
    "      return c\n",
    "end # weights function    "
   ]
  },
  {
   "cell_type": "code",
   "execution_count": 35,
   "metadata": {},
   "outputs": [
    {
     "data": {
      "text/plain": [
       "stencil (generic function with 2 methods)"
      ]
     },
     "execution_count": 35,
     "metadata": {},
     "output_type": "execute_result"
    }
   ],
   "source": [
    "function stencil(x::AbstractVector{<:Real}, x₀::Real, m::Integer)\n",
    "    ℓ = 0:length(x)-1\n",
    "    m in ℓ || throw(ArgumentError(\"order $m ∉ $ℓ\"))\n",
    "    A = @. (x' - x₀)^ℓ / factorial(ℓ)\n",
    "    return A \\ (ℓ .== m) # vector of weights w\n",
    "end"
   ]
  },
  {
   "cell_type": "code",
   "execution_count": 36,
   "metadata": {},
   "outputs": [],
   "source": [
    "using BenchmarkTools"
   ]
  },
  {
   "cell_type": "code",
   "execution_count": 37,
   "metadata": {},
   "outputs": [
    {
     "name": "stdout",
     "output_type": "stream",
     "text": [
      "  170.149 ns (1 allocation: 224 bytes)\n",
      "  1.054 μs (6 allocations: 1.19 KiB)\n",
      "Finite difference weights v1: [0.011, -0.15, 1.5, -2.7, 1.5, -0.15, 0.011]\n",
      "Finite difference weights v2: [0.011, -0.15, 1.5, -2.7, 1.5, -0.15, 0.011]\n"
     ]
    }
   ],
   "source": [
    "# Define the grid points and the target point\n",
    "x = [-3, -2, -1, 0, 1, 2, 3]\n",
    "n = length(x) - 1 # definition of n\n",
    "x₀ = 0 # evaluate a derivative at this point \n",
    "m = 2  # First derivative\n",
    "\n",
    "# Compute the finite difference weights\n",
    "@btime test1 = fornberg_weights(x₀, x, n, m) # gives weights for ALL derivatives from 0 to m given \n",
    "@btime test2 = stencil(x, x₀, m)\n",
    "\n",
    "println(\"Finite difference weights v1: \", test1[:, end])\n",
    "println(\"Finite difference weights v2: \", test2)"
   ]
  },
  {
   "cell_type": "markdown",
   "metadata": {},
   "source": [
    "So the first implementation (which is closer to Fornberg's original algorithm) is MUCH faster. Good to know!"
   ]
  }
 ],
 "metadata": {
  "kernelspec": {
   "display_name": "Julia 1.10.4",
   "language": "julia",
   "name": "julia-1.10"
  },
  "language_info": {
   "file_extension": ".jl",
   "mimetype": "application/julia",
   "name": "julia",
   "version": "1.10.4"
  }
 },
 "nbformat": 4,
 "nbformat_minor": 2
}
